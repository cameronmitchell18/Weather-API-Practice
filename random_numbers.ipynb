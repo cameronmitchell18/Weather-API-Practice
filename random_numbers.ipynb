{
 "cells": [
  {
   "cell_type": "code",
   "execution_count": 1,
   "metadata": {},
   "outputs": [
    {
     "name": "stdout",
     "output_type": "stream",
     "text": [
      "The Zen of Python, by Tim Peters\n",
      "\n",
      "Beautiful is better than ugly.\n",
      "Explicit is better than implicit.\n",
      "Simple is better than complex.\n",
      "Complex is better than complicated.\n",
      "Flat is better than nested.\n",
      "Sparse is better than dense.\n",
      "Readability counts.\n",
      "Special cases aren't special enough to break the rules.\n",
      "Although practicality beats purity.\n",
      "Errors should never pass silently.\n",
      "Unless explicitly silenced.\n",
      "In the face of ambiguity, refuse the temptation to guess.\n",
      "There should be one-- and preferably only one --obvious way to do it.\n",
      "Although that way may not be obvious at first unless you're Dutch.\n",
      "Now is better than never.\n",
      "Although never is often better than *right* now.\n",
      "If the implementation is hard to explain, it's a bad idea.\n",
      "If the implementation is easy to explain, it may be a good idea.\n",
      "Namespaces are one honking great idea -- let's do more of those!\n"
     ]
    }
   ],
   "source": [
    "import this\n",
    "import random\n"
   ]
  },
  {
   "cell_type": "code",
   "execution_count": 2,
   "metadata": {},
   "outputs": [
    {
     "data": {
      "text/plain": [
       "-89"
      ]
     },
     "execution_count": 2,
     "metadata": {},
     "output_type": "execute_result"
    }
   ],
   "source": [
    "# The randit() function \n",
    "random.randint(-90 , 90)\n",
    "\n",
    "# NOTE: This function retuns a random int between the specified numbers given"
   ]
  },
  {
   "cell_type": "code",
   "execution_count": 3,
   "metadata": {},
   "outputs": [
    {
     "data": {
      "text/plain": [
       "0.3481829269737762"
      ]
     },
     "execution_count": 3,
     "metadata": {},
     "output_type": "execute_result"
    }
   ],
   "source": [
    "# The random() function \n",
    "random.random()\n",
    "\n",
    "# NOTE: This function returns a random float between 0 and 1.0"
   ]
  },
  {
   "cell_type": "code",
   "execution_count": 4,
   "metadata": {},
   "outputs": [
    {
     "data": {
      "text/plain": [
       "-88.94032000642048"
      ]
     },
     "execution_count": 4,
     "metadata": {},
     "output_type": "execute_result"
    }
   ],
   "source": [
    "random_number = random.randint(-90 , 89) + random.random()\n",
    "random_number\n",
    "\n",
    "# NOTE: changed the lower range of the randint() because we want whole numbers up to 89\n",
    "# NOTE: when we add the floating-point decimal number, we'll generate latitudes between –89.99999 and 89.99999."
   ]
  },
  {
   "cell_type": "code",
   "execution_count": 5,
   "metadata": {},
   "outputs": [
    {
     "data": {
      "text/plain": [
       "[-33.84940551179241,\n",
       " 23.36966745542815,\n",
       " 51.80926894450214,\n",
       " 8.049842179810163,\n",
       " 46.098320459725876,\n",
       " -52.90091457175336,\n",
       " 41.44584460249493,\n",
       " -10.219678747999597,\n",
       " -0.9895278968900919,\n",
       " -45.83919879716232]"
      ]
     },
     "execution_count": 5,
     "metadata": {},
     "output_type": "execute_result"
    }
   ],
   "source": [
    "# Using these two functions, we can write an algorithm that will generate latitudes between –90 and 89 \n",
    "\n",
    "x = 1 \n",
    "\n",
    "latitudes = []\n",
    "\n",
    "while x < 11: \n",
    "\n",
    "    random_lat = random.randint(-90 , 89) + random.random()\n",
    "\n",
    "    latitudes.append(random_lat)\n",
    "\n",
    "    x += 1\n",
    "\n",
    "latitudes\n",
    "\n",
    "# NOTE: In the code block above, we:\n",
    "# Assign the variable x to 1.\n",
    "# Initialize an empty list, latitudes.\n",
    "# We create a while loop where we generate a random latitude and add it to the list.\n",
    "# After the random latitude is added to the list we add one to the variable \"x\".\n",
    "# The while loop condition is checked again and will continue to run as long as x is less than 11."
   ]
  },
  {
   "cell_type": "code",
   "execution_count": 6,
   "metadata": {},
   "outputs": [
    {
     "data": {
      "text/plain": [
       "-51"
      ]
     },
     "execution_count": 6,
     "metadata": {},
     "output_type": "execute_result"
    }
   ],
   "source": [
    "# randrage() function \n",
    "\n",
    "# The step by counts three numbers up and then displays that third number. \n",
    "\n",
    "random.randrange(-90 , 90 , step = 1)\n",
    "\n",
    "random.randrange(-90 , 90 , step = 3)"
   ]
  },
  {
   "cell_type": "code",
   "execution_count": 8,
   "metadata": {},
   "outputs": [
    {
     "data": {
      "text/plain": [
       "77.06089206867333"
      ]
     },
     "execution_count": 8,
     "metadata": {},
     "output_type": "execute_result"
    }
   ],
   "source": [
    "# The uniform() function will allow us to generate a floating-point decimal number between two given numbers inside the parentheses.\n",
    "\n",
    "random.uniform(-90 , 90)"
   ]
  }
 ],
 "metadata": {
  "interpreter": {
   "hash": "2d0ebcd76ee6532058c82cdc064f9a725e364c2d73b47d3444aaade0aa7b9dc5"
  },
  "kernelspec": {
   "display_name": "Python 3.10.4 ('PythonData')",
   "language": "python",
   "name": "python3"
  },
  "language_info": {
   "codemirror_mode": {
    "name": "ipython",
    "version": 3
   },
   "file_extension": ".py",
   "mimetype": "text/x-python",
   "name": "python",
   "nbconvert_exporter": "python",
   "pygments_lexer": "ipython3",
   "version": "3.9.7"
  },
  "orig_nbformat": 4
 },
 "nbformat": 4,
 "nbformat_minor": 2
}
